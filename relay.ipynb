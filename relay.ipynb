{
  "nbformat": 4,
  "nbformat_minor": 0,
  "metadata": {
    "colab": {
      "provenance": []
    },
    "kernelspec": {
      "name": "python3",
      "display_name": "Python 3"
    },
    "language_info": {
      "name": "python"
    }
  },
  "cells": [
    {
      "cell_type": "code",
      "execution_count": null,
      "metadata": {
        "colab": {
          "base_uri": "https://localhost:8080/"
        },
        "id": "D7L5eeGyMyna",
        "outputId": "23e903f4-22fa-4179-d0cb-7bd996864700"
      },
      "outputs": [
        {
          "output_type": "stream",
          "name": "stdout",
          "text": [
            "Looking in indexes: https://pypi.org/simple, https://us-python.pkg.dev/colab-wheels/public/simple/\n",
            "Collecting apache-tvm\n",
            "  Downloading apache_tvm-0.10.0-cp37-cp37m-manylinux_2_17_x86_64.manylinux2014_x86_64.whl (44.2 MB)\n",
            "\u001b[K     |████████████████████████████████| 44.2 MB 1.8 MB/s \n",
            "\u001b[?25hCollecting synr==0.6.0\n",
            "  Downloading synr-0.6.0-py3-none-any.whl (18 kB)\n",
            "Requirement already satisfied: numpy in /usr/local/lib/python3.7/dist-packages (from apache-tvm) (1.21.6)\n",
            "Requirement already satisfied: psutil in /usr/local/lib/python3.7/dist-packages (from apache-tvm) (5.4.8)\n",
            "Requirement already satisfied: scipy in /usr/local/lib/python3.7/dist-packages (from apache-tvm) (1.7.3)\n",
            "Requirement already satisfied: tornado in /usr/local/lib/python3.7/dist-packages (from apache-tvm) (6.0.4)\n",
            "Requirement already satisfied: decorator in /usr/local/lib/python3.7/dist-packages (from apache-tvm) (4.4.2)\n",
            "Requirement already satisfied: attrs in /usr/local/lib/python3.7/dist-packages (from apache-tvm) (22.1.0)\n",
            "Requirement already satisfied: cloudpickle in /usr/local/lib/python3.7/dist-packages (from apache-tvm) (1.5.0)\n",
            "Installing collected packages: synr, apache-tvm\n",
            "Successfully installed apache-tvm-0.10.0 synr-0.6.0\n"
          ]
        }
      ],
      "source": [
        "pip install apache-tvm"
      ]
    },
    {
      "cell_type": "code",
      "source": [
        "import numpy as np\n",
        "from google.colab import files\n",
        "from google.colab import drive\n",
        "\n",
        "drive.mount('/content/drive')\n",
        "path = '/content/drive/MyDrive/Colab Notebooks/relay/' # the absolute path to your file\n",
        "%cd /content/drive/MyDrive/Colab Notebooks/relay/\n",
        "!ls"
      ],
      "metadata": {
        "colab": {
          "base_uri": "https://localhost:8080/"
        },
        "id": "Mx_UN4TAM4Lw",
        "outputId": "7f95ceae-cc99-4bd1-efd9-db1c00e9cf86"
      },
      "execution_count": null,
      "outputs": [
        {
          "output_type": "stream",
          "name": "stdout",
          "text": [
            "Drive already mounted at /content/drive; to attempt to forcibly remount, call drive.mount(\"/content/drive\", force_remount=True).\n",
            "/content/drive/MyDrive/Colab Notebooks/relay\n",
            "184.jpg  b.csv\t d.csv\t      test1.jpg       Untitled0.ipynb\n",
            "b1.csv\t d1.csv  relay.ipynb  test_image.jpg\n"
          ]
        }
      ]
    },
    {
      "cell_type": "code",
      "source": [
        "from matplotlib.image import imread\n",
        "import pandas as pd\n",
        "import tvm\n",
        "from tvm import relay\n",
        "from tvm.contrib import graph_executor\n",
        "import cv2"
      ],
      "metadata": {
        "id": "ikdT_PVLM8Lh"
      },
      "execution_count": null,
      "outputs": []
    },
    {
      "cell_type": "code",
      "source": [
        "d = tvm.nd.array(pd.read_csv('d.csv',header=None).to_numpy().astype(\"float32\"))\n",
        "b = tvm.nd.array(pd.read_csv('b.csv',header=None).to_numpy().astype(\"float32\"))\n",
        "d1 = tvm.nd.array(pd.read_csv('d1.csv',header=None).to_numpy().astype(\"float32\"))\n",
        "b1 = tvm.nd.array(pd.read_csv('b1.csv',header=None).to_numpy().astype(\"float32\"))\n",
        "image = cv2.imread('184.jpg',cv2.IMREAD_GRAYSCALE).flatten().reshape(1,784)"
      ],
      "metadata": {
        "id": "UOY-lwLiNEdU"
      },
      "execution_count": null,
      "outputs": []
    },
    {
      "cell_type": "code",
      "source": [
        "import numpy as np\n",
        "import tvm\n",
        "from tvm import relay\n",
        "from tvm.contrib import graph_executor\n",
        "\n",
        "def get_network_architecture(image: np.ndarray, d: tvm.nd.array, b: tvm.nd.array, d1: tvm.nd.array, b1: tvm.nd.array):\n",
        "    dtype=\"float32\"\n",
        "    ###\n",
        "    # Your code starts here...\n",
        "    # Step 1: Create relay input variable via relay.var(\"input\", shape=..., dtype=...)\n",
        "    input = tvm.relay.var(\"input\", shape=[1, 28*28], dtype=dtype)\n",
        "\n",
        "    # Step 2: Create relay variables for weights via weight1 = relay.var(\"d\", shape=..., dtype=...),\n",
        "    # weights names list: d - first dense layer, b - first bias, d1 - second dense layer, b1 - second bias\n",
        "    weight1 = relay.var(\"weight1\", shape=d.shape, dtype=dtype)\n",
        "    weight2 = relay.var(\"weight2\", shape=b.shape, dtype=dtype)\n",
        "    weight3 = relay.var(\"weight3\", shape=d1.shape, dtype=dtype)\n",
        "    weight4 = relay.var(\"weight4\", shape=b1.shape, dtype=dtype)\n",
        "\n",
        "    # Step 3: Write your architecture. In our example case:\n",
        "    # %0 transpose (dense weights)\n",
        "    # %1 dense layer (input, %0)\n",
        "    # %2 bias add (%1, bias weights)\n",
        "    # %3 relu (%2)\n",
        "    # %4 transpose (dense2 weights)\n",
        "    # %5 dense2 layer (%3, %4)\n",
        "    # %6 bias add (%5, bias 2 weights) -> softmax (%6)\n",
        "\n",
        "    step_0 = relay.transpose(weight1)\n",
        "    step_1 = relay.nn.dense(input, step_0)\n",
        "    step_2 = relay.nn.bias_add(step_1, relay.transpose(weight2))\n",
        "    step_3 = relay.nn.relu(step_2)\n",
        "    step_4 = relay.transpose(weight3)\n",
        "    step_5 = relay.nn.dense(step_3, step_4)\n",
        "    step_6 = relay.nn.bias_add(step_5, relay.transpose(weight4))\n",
        "    sm = relay.nn.softmax(step_6)\n",
        "\n",
        "    # Step 4: Dont forget about params! Enter all weights names there.\n",
        "    # Example: (params = {weight1: \"d\", weight2: \"...\", ..})\n",
        "    params = {\"weight1\": d , \"weight2\": b, \"weight3\": d1, \"weight4\": b1}\n",
        "    #params = {d: \"d\", b: \"b\", d1: \"d1\", b1: \"b1\"}\n",
        "    # Step 5: Get mod via relay.Function([input, weight1, weight2, weight3, weight4], last_layer_name)\n",
        "    mod = relay.Function([input, weight1, weight2, weight3, weight4], sm)\n",
        "\n",
        "    return mod, params"
      ],
      "metadata": {
        "id": "NzH3tPnvNl_k"
      },
      "execution_count": null,
      "outputs": []
    },
    {
      "cell_type": "code",
      "source": [
        "import numpy as np\n",
        "import tvm\n",
        "from tvm import relay\n",
        "from tvm.contrib import graph_executor\n",
        "\n",
        "def get_network_architecture(image: np.ndarray, d: tvm.nd.array, b: tvm.nd.array, d1: tvm.nd.array, b1: tvm.nd.array):\n",
        "    dtype=\"float32\"\n",
        "    ###\n",
        "    # Your code starts here...\n",
        "    # Step 1: Create relay input variable via relay.var(\"input\", shape=..., dtype=...)\n",
        "    input = tvm.relay.var(\"input\", relay.TensorType(image.shape,dtype))\n",
        "\n",
        "    # Step 2: Create relay variables for weights via weight1 = relay.var(\"d\", shape=..., dtype=...),\n",
        "    # weights names list: d - first dense layer, b - first bias, d1 - second dense layer, b1 - second bias\n",
        "    dense = relay.var(\"d\", shape=d.shape, dtype=dtype)\n",
        "    bias = relay.var(\"b\", shape=b.shape, dtype=dtype)\n",
        "    dense1 = relay.var(\"d1\", shape=d1.shape, dtype=dtype)\n",
        "    bias1 = relay.var(\"b1\", shape=b1.shape, dtype=dtype)\n",
        "\n",
        "    # Step 3: Write your architecture. In our example case:\n",
        "    # %0 transpose (dense weights)\n",
        "    # %1 dense layer (input, %0)\n",
        "    # %2 bias add (%1, bias weights)\n",
        "    # %3 relu (%2)\n",
        "    # %4 transpose (dense2 weights)\n",
        "    # %5 dense2 layer (%3, %4)\n",
        "    # %6 bias add (%5, bias 2 weights) -> softmax (%6)\n",
        "    dense_T=relay.transpose(dense)\n",
        "    dense1_T=relay.transpose(dense1)\n",
        "\n",
        "    net = relay.nn.dense(input, dense_T)\n",
        "    net = relay.add(net, relay.transpose(bias))\n",
        "    net = relay.nn.relu(net)\n",
        "    net = relay.nn.dense(net, dense1_T)\n",
        "    net = relay.add(net, relay.transpose(bias1))\n",
        "    net = relay.nn.softmax(net)\n",
        "\n",
        "    # Step 4: Dont forget about params! Enter all weights names there.\n",
        "    # Example: (params = {weight1: \"d\", weight2: \"...\", ..})\n",
        "    params = {\"d\": d , \"b\": b, \"d1\": d1, \"b1\": b1}\n",
        "    #params = {d: \"d\", b: \"b\", d1: \"d1\", b1: \"b1\"}\n",
        "    # Step 5: Get mod via relay.Function([input, weight1, weight2, weight3, weight4], last_layer_name)\n",
        "    mod = relay.Function([input, dense, bias, dense1, bias1], net)\n",
        "\n",
        "    return mod, params"
      ],
      "metadata": {
        "id": "2b6cBxBS-2NN"
      },
      "execution_count": null,
      "outputs": []
    },
    {
      "cell_type": "code",
      "source": [
        "mod, params = get_network_architecture(image=image,d=d,b=b,d1=d1,b1=b1)"
      ],
      "metadata": {
        "id": "b41lABAqN4E5"
      },
      "execution_count": null,
      "outputs": []
    },
    {
      "cell_type": "code",
      "source": [
        "def test_model(img_tvm, mod, params, target=\"llvm\"):\n",
        "  with tvm.transform.PassContext(opt_level=3):\n",
        "    lib = relay.build(mod, target=target, params=params)\n",
        "\n",
        "  #dev = tvm.cpu(0)\n",
        "  dev = tvm.device(target, 0)\n",
        "\n",
        "  gmod = graph_executor.GraphModule(lib[\"default\"](dev))\n",
        "  gmod.set_input(\"input\", img_tvm)\n",
        "  gmod.run()\n",
        "  tvm_output = gmod.get_output(0)\n",
        "  output = tvm_output.asnumpy()\n",
        "  pred = np.argmax(output)\n",
        "  return pred, output"
      ],
      "metadata": {
        "id": "C3_gcLYF3PeZ"
      },
      "execution_count": null,
      "outputs": []
    },
    {
      "cell_type": "code",
      "source": [
        "pred,output=test_model(image,mod,params)"
      ],
      "metadata": {
        "id": "2rgWYIMVN6vz"
      },
      "execution_count": null,
      "outputs": []
    },
    {
      "cell_type": "code",
      "source": [
        "print(pred,output)"
      ],
      "metadata": {
        "colab": {
          "base_uri": "https://localhost:8080/"
        },
        "id": "ohJAXIqzAuq3",
        "outputId": "dcea5e3e-142a-4699-9a1c-abb01b29e1db"
      },
      "execution_count": null,
      "outputs": [
        {
          "output_type": "stream",
          "name": "stdout",
          "text": [
            "8 [[0. 0. 0. 0. 0. 0. 0. 0. 1. 0.]]\n"
          ]
        }
      ]
    }
  ]
}